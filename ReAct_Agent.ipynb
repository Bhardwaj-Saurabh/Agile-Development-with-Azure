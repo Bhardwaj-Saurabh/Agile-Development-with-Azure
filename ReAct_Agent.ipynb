{
  "nbformat": 4,
  "nbformat_minor": 0,
  "metadata": {
    "colab": {
      "provenance": [],
      "authorship_tag": "ABX9TyPUTTTO1jM1Uaw++PE0QBe3",
      "include_colab_link": true
    },
    "kernelspec": {
      "name": "python3",
      "display_name": "Python 3"
    },
    "language_info": {
      "name": "python"
    }
  },
  "cells": [
    {
      "cell_type": "markdown",
      "metadata": {
        "id": "view-in-github",
        "colab_type": "text"
      },
      "source": [
        "<a href=\"https://colab.research.google.com/github/Bhardwaj-Saurabh/Agile-Development-with-Azure/blob/master/ReAct_Agent.ipynb\" target=\"_parent\"><img src=\"https://colab.research.google.com/assets/colab-badge.svg\" alt=\"Open In Colab\"/></a>"
      ]
    },
    {
      "cell_type": "code",
      "execution_count": 1,
      "metadata": {
        "colab": {
          "base_uri": "https://localhost:8080/"
        },
        "collapsed": true,
        "id": "gvouyHgaXZ7l",
        "outputId": "8fdf71a1-edfa-4061-d3a4-f93d3fe7cabe"
      },
      "outputs": [
        {
          "output_type": "stream",
          "name": "stdout",
          "text": [
            "Requirement already satisfied: openai in /usr/local/lib/python3.11/dist-packages (1.84.0)\n",
            "Collecting groq\n",
            "  Downloading groq-0.26.0-py3-none-any.whl.metadata (15 kB)\n",
            "Collecting colorama\n",
            "  Downloading colorama-0.4.6-py2.py3-none-any.whl.metadata (17 kB)\n",
            "Requirement already satisfied: anyio<5,>=3.5.0 in /usr/local/lib/python3.11/dist-packages (from openai) (4.9.0)\n",
            "Requirement already satisfied: distro<2,>=1.7.0 in /usr/local/lib/python3.11/dist-packages (from openai) (1.9.0)\n",
            "Requirement already satisfied: httpx<1,>=0.23.0 in /usr/local/lib/python3.11/dist-packages (from openai) (0.28.1)\n",
            "Requirement already satisfied: jiter<1,>=0.4.0 in /usr/local/lib/python3.11/dist-packages (from openai) (0.10.0)\n",
            "Requirement already satisfied: pydantic<3,>=1.9.0 in /usr/local/lib/python3.11/dist-packages (from openai) (2.11.5)\n",
            "Requirement already satisfied: sniffio in /usr/local/lib/python3.11/dist-packages (from openai) (1.3.1)\n",
            "Requirement already satisfied: tqdm>4 in /usr/local/lib/python3.11/dist-packages (from openai) (4.67.1)\n",
            "Requirement already satisfied: typing-extensions<5,>=4.11 in /usr/local/lib/python3.11/dist-packages (from openai) (4.14.0)\n",
            "Requirement already satisfied: idna>=2.8 in /usr/local/lib/python3.11/dist-packages (from anyio<5,>=3.5.0->openai) (3.10)\n",
            "Requirement already satisfied: certifi in /usr/local/lib/python3.11/dist-packages (from httpx<1,>=0.23.0->openai) (2025.4.26)\n",
            "Requirement already satisfied: httpcore==1.* in /usr/local/lib/python3.11/dist-packages (from httpx<1,>=0.23.0->openai) (1.0.9)\n",
            "Requirement already satisfied: h11>=0.16 in /usr/local/lib/python3.11/dist-packages (from httpcore==1.*->httpx<1,>=0.23.0->openai) (0.16.0)\n",
            "Requirement already satisfied: annotated-types>=0.6.0 in /usr/local/lib/python3.11/dist-packages (from pydantic<3,>=1.9.0->openai) (0.7.0)\n",
            "Requirement already satisfied: pydantic-core==2.33.2 in /usr/local/lib/python3.11/dist-packages (from pydantic<3,>=1.9.0->openai) (2.33.2)\n",
            "Requirement already satisfied: typing-inspection>=0.4.0 in /usr/local/lib/python3.11/dist-packages (from pydantic<3,>=1.9.0->openai) (0.4.1)\n",
            "Downloading groq-0.26.0-py3-none-any.whl (129 kB)\n",
            "\u001b[2K   \u001b[90m━━━━━━━━━━━━━━━━━━━━━━━━━━━━━━━━━━━━━━━━\u001b[0m \u001b[32m129.6/129.6 kB\u001b[0m \u001b[31m3.6 MB/s\u001b[0m eta \u001b[36m0:00:00\u001b[0m\n",
            "\u001b[?25hDownloading colorama-0.4.6-py2.py3-none-any.whl (25 kB)\n",
            "Installing collected packages: colorama, groq\n",
            "Successfully installed colorama-0.4.6 groq-0.26.0\n"
          ]
        }
      ],
      "source": [
        "!pip install openai groq colorama"
      ]
    },
    {
      "cell_type": "code",
      "source": [
        "import os\n",
        "from google.colab import userdata\n",
        "\n",
        "os.environ['OPENAI_API_KEY'] = userdata.get('OPENAI_API_KEY')\n",
        "os.environ['GROQ_API_KEY'] = userdata.get('GROQ_API_KEY')"
      ],
      "metadata": {
        "id": "EVJsPsRjbtFV"
      },
      "execution_count": 1,
      "outputs": []
    },
    {
      "cell_type": "code",
      "source": [
        "from IPython.display import display, HTML\n",
        "\n",
        "def safe_colored(text, color):\n",
        "    # HTML for Colab\n",
        "    html = f\"<span style='color:{color}'>{text}</span>\"\n",
        "    display(HTML(html))\n",
        "\n",
        "safe_colored(\"Hello in blue\", \"red\")\n",
        "safe_colored(\"Warning in yellow\", \"orange\")"
      ],
      "metadata": {
        "colab": {
          "base_uri": "https://localhost:8080/",
          "height": 52
        },
        "id": "F2jYCya4GMJg",
        "outputId": "c5987310-f696-44a4-d200-45fde198d4d4"
      },
      "execution_count": 292,
      "outputs": [
        {
          "output_type": "display_data",
          "data": {
            "text/plain": [
              "<IPython.core.display.HTML object>"
            ],
            "text/html": [
              "<span style='color:red'>Hello in blue</span>"
            ]
          },
          "metadata": {}
        },
        {
          "output_type": "display_data",
          "data": {
            "text/plain": [
              "<IPython.core.display.HTML object>"
            ],
            "text/html": [
              "<span style='color:orange'>Warning in yellow</span>"
            ]
          },
          "metadata": {}
        }
      ]
    },
    {
      "cell_type": "code",
      "source": [
        "from typing import Callable\n",
        "class Tool:\n",
        "    \"\"\"\n",
        "    A class representing a reusable piece of code (Tool).\n",
        "\n",
        "    Attributes:\n",
        "        name (str): Name of the tool.\n",
        "        description (str): A textual description of what the tool does.\n",
        "        func (callable): The function this tool wraps.\n",
        "        arguments (list): A list of argument.\n",
        "        outputs (str or list): The return type(s) of the wrapped function.\n",
        "    \"\"\"\n",
        "    def __init__(self,\n",
        "                 name: str,\n",
        "                 description: str,\n",
        "                 func: Callable,\n",
        "                 arguments: list,\n",
        "                 outputs: str):\n",
        "        self.name = name\n",
        "        self.description = description\n",
        "        self.func = func\n",
        "        self.arguments = arguments\n",
        "        self.outputs = outputs\n",
        "\n",
        "    def to_string(self) -> str:\n",
        "        \"\"\"\n",
        "        Return a string representation of the tool,\n",
        "        including its name, description, arguments, and outputs.\n",
        "        \"\"\"\n",
        "        args_str = \", \".join([\n",
        "            f\"{arg_name}: {arg_type}\" for arg_name, arg_type in self.arguments\n",
        "        ])\n",
        "\n",
        "        return (\n",
        "            f\"Tool Name: {self.name},\"\n",
        "            f\" Description: {self.description},\"\n",
        "            f\" Arguments: {args_str},\"\n",
        "            f\" Outputs: {self.outputs}\"\n",
        "        )\n",
        "\n",
        "    def __call__(self, *args, **kwargs):\n",
        "        \"\"\"\n",
        "        Invoke the underlying function (callable) with provided arguments.\n",
        "        \"\"\"\n",
        "        return self.func(*args, **kwargs)"
      ],
      "metadata": {
        "id": "DhK2x0pVyW7L"
      },
      "execution_count": 12,
      "outputs": []
    },
    {
      "cell_type": "code",
      "source": [
        "import inspect\n",
        "\n",
        "def tool(func):\n",
        "    \"\"\"\n",
        "    A decorator that creates a Tool instance from the given function.\n",
        "    \"\"\"\n",
        "    # Get the function signature\n",
        "    signature = inspect.signature(func)\n",
        "\n",
        "    # Extract (param_name, param_annotation) pairs for inputs\n",
        "    arguments = []\n",
        "    for param in signature.parameters.values():\n",
        "        annotation_name = (\n",
        "            param.annotation.__name__\n",
        "            if hasattr(param.annotation, '__name__')\n",
        "            else str(param.annotation)\n",
        "        )\n",
        "        arguments.append((param.name, annotation_name))\n",
        "\n",
        "    # Determine the return annotation\n",
        "    return_annotation = signature.return_annotation\n",
        "    if return_annotation is inspect._empty:\n",
        "        outputs = \"No return annotation\"\n",
        "    else:\n",
        "        outputs = (\n",
        "            return_annotation.__name__\n",
        "            if hasattr(return_annotation, '__name__')\n",
        "            else str(return_annotation)\n",
        "        )\n",
        "\n",
        "    # Use the function's docstring as the description (default if None)\n",
        "    description = func.__doc__ or \"No description provided.\"\n",
        "\n",
        "    # The function name becomes the Tool name\n",
        "    name = func.__name__\n",
        "\n",
        "    # Return a new Tool instance\n",
        "    return Tool(\n",
        "        name=name,\n",
        "        description=description,\n",
        "        func=func,\n",
        "        arguments=arguments,\n",
        "        outputs=outputs\n",
        "    )"
      ],
      "metadata": {
        "id": "r7Xhb6EKyayj"
      },
      "execution_count": 13,
      "outputs": []
    },
    {
      "cell_type": "code",
      "source": [
        "import json\n",
        "\n",
        "@tool\n",
        "def calculator(a: float,\n",
        "               b: float,\n",
        "               operation: str) -> dict:\n",
        "    \"\"\"\n",
        "    Calculator to perform mathamatical operation between two numbers.\n",
        "\n",
        "    operation:\n",
        "        - add: for addition\n",
        "        - multiply: for multiplication\n",
        "        - subtract: for subtraction\n",
        "        - divide: for division\n",
        "    \"\"\"\n",
        "    if operation == 'add':\n",
        "        return {\"tool_answer\": a + b}\n",
        "    elif operation == 'multiply':\n",
        "        return {\"tool_answer\": a * b}\n",
        "    elif operation == 'subtract':\n",
        "        return {\"tool_answer\": a - b}\n",
        "    elif operation == 'divide':\n",
        "        return {\"tool_answer\": a / b}\n",
        "    else:\n",
        "        return {\"tool_answer\": None}"
      ],
      "metadata": {
        "id": "feyBks6ycG72"
      },
      "execution_count": 132,
      "outputs": []
    },
    {
      "cell_type": "code",
      "source": [
        "tool_definition = calculator.to_string()\n",
        "print(tool_definition)"
      ],
      "metadata": {
        "colab": {
          "base_uri": "https://localhost:8080/"
        },
        "id": "tzIgBNnTk22j",
        "outputId": "1c3b17f8-ed11-42e4-f6ba-d48934c7a7da"
      },
      "execution_count": 133,
      "outputs": [
        {
          "output_type": "stream",
          "name": "stdout",
          "text": [
            "Tool Name: calculator, Description: \n",
            "    Calculator to perform mathamatical operation between two numbers.\n",
            "\n",
            "    operation: \n",
            "        - add: for addition\n",
            "        - multiply: for multiplication\n",
            "        - subtract: for subtraction\n",
            "        - divide: for division\n",
            "    , Arguments: a: float, b: float, operation: str, Outputs: dict\n"
          ]
        }
      ]
    },
    {
      "cell_type": "code",
      "source": [
        "from openai import OpenAI"
      ],
      "metadata": {
        "id": "FNehyq79zdbA"
      },
      "execution_count": 218,
      "outputs": []
    },
    {
      "cell_type": "code",
      "source": [
        "OPENAI_CLIENT = OpenAI()"
      ],
      "metadata": {
        "id": "pj9VRQPSnXJa"
      },
      "execution_count": 206,
      "outputs": []
    },
    {
      "cell_type": "code",
      "source": [
        "ReAct_SYSTEM_PROMPT = \"\"\"Act as a helpful assistant.\n",
        "You run in a loop of Thought, Action, Observation.\n",
        "At the end of the loop, you output an Answer.\n",
        "Use Thought to describe your thoughts about the question you have been asked.\n",
        "Use Action to run one of the actions available to you.\n",
        "Observation will be the result of running those actions.\n",
        "Repeat till you get to the answer for the given user query.\n",
        "\n",
        "Tools at your disposal to perform tasks as needed:\n",
        "- %s\n",
        "\n",
        "### IMPORTANT:\n",
        "Do not solve the problem yourself.\n",
        "Only output your next step.\n",
        "\n",
        "If tool is needed. Return the following:\n",
        "<tool_call>\n",
        "{\"name\": <function-name>,\"arguments\": <args-dict>}\n",
        "</tool_call>\n",
        "\n",
        "You will be provided with the tool_call result as follows.\n",
        "<observation>\n",
        "{\"tool_answer\": answer}\n",
        "</observation>\n",
        "\n",
        "Use observation and proceed with the remaining steps.\n",
        "\n",
        "\n",
        "Example session:\n",
        "\n",
        "<question> add 2 and 3 </question>\n",
        "<thought>I need to add 2 and 3 </thought>\n",
        "<tool_call>{\"name\": \"calculator\",\"arguments\": {\"a\": 1234, \"b\": 5678, \"operation\": \"add\"}}</tool_call>\n",
        "\n",
        "You will be called again with this:\n",
        "\n",
        "<observation>{1: {'tool_answer': 5}}</observation>\n",
        "\n",
        "You then output:\n",
        "\n",
        "<response>The final answer to your query is 5</response>\n",
        "\"\"\""
      ],
      "metadata": {
        "id": "GMyFJsJbzbPU"
      },
      "execution_count": 244,
      "outputs": []
    },
    {
      "cell_type": "code",
      "source": [
        "ReAct_SYSTEM_PROMPT = ReAct_SYSTEM_PROMPT % tool_definition\n",
        "print(ReAct_SYSTEM_PROMPT)"
      ],
      "metadata": {
        "colab": {
          "base_uri": "https://localhost:8080/"
        },
        "id": "ZoOn8lMu1LRz",
        "outputId": "a5689917-f401-40a2-e1a2-8660c0b011d1"
      },
      "execution_count": 245,
      "outputs": [
        {
          "output_type": "stream",
          "name": "stdout",
          "text": [
            "Act as a helpful assistant.\n",
            "You run in a loop of Thought, Action, Observation.\n",
            "At the end of the loop, you output an Answer.\n",
            "Use Thought to describe your thoughts about the question you have been asked.\n",
            "Use Action to run one of the actions available to you.\n",
            "Observation will be the result of running those actions.\n",
            "Repeat till you get to the answer for the given user query.\n",
            "\n",
            "Tools at your disposal to perform tasks as needed:\n",
            "- Tool Name: calculator, Description: \n",
            "    Calculator to perform mathamatical operation between two numbers.\n",
            "\n",
            "    operation: \n",
            "        - add: for addition\n",
            "        - multiply: for multiplication\n",
            "        - subtract: for subtraction\n",
            "        - divide: for division\n",
            "    , Arguments: a: float, b: float, operation: str, Outputs: dict\n",
            "\n",
            "### IMPORTANT: \n",
            "Do not solve the problem yourself. \n",
            "Only output your next step. \n",
            "\n",
            "If tool is needed. Return the following:\n",
            "<tool_call>\n",
            "{\"name\": <function-name>,\"arguments\": <args-dict>}\n",
            "</tool_call>\n",
            "\n",
            "You will be provided with the tool_call result as follows. \n",
            "<observation>\n",
            "{\"tool_answer\": answer}\n",
            "</observation>\n",
            "\n",
            "Use observation and proceed with the remaining steps.\n",
            "\n",
            "\n",
            "Example session:\n",
            "\n",
            "<question> add 2 and 3 </question>\n",
            "<thought>I need to add 2 and 3 </thought>\n",
            "<tool_call>{\"name\": \"calculator\",\"arguments\": {\"a\": 1234, \"b\": 5678, \"operation\": \"add\"}}</tool_call>\n",
            "\n",
            "You will be called again with this:\n",
            "\n",
            "<observation>{1: {'tool_answer': 5}}</observation>\n",
            "\n",
            "You then output:\n",
            "\n",
            "<response>The final answer to your query is 5</response>\n",
            "\n"
          ]
        }
      ]
    },
    {
      "cell_type": "code",
      "source": [
        "user_query = \"I want to calculate the sum of 1234 and 5678 and multiply the result by 5. Then, devide it by 34\"\n",
        "chat_history = [\n",
        "    {\n",
        "        \"role\": \"system\",\n",
        "        \"content\": ReAct_SYSTEM_PROMPT\n",
        "    },\n",
        "    {\n",
        "        \"role\": \"user\",\n",
        "        \"content\": f\"<question>{user_query}</question>\"\n",
        "    }\n",
        "]"
      ],
      "metadata": {
        "id": "yvcpLpDv1Szs"
      },
      "execution_count": 269,
      "outputs": []
    },
    {
      "cell_type": "code",
      "source": [
        "response = OPENAI_CLIENT.chat.completions.create(\n",
        "    messages=chat_history,\n",
        "    model=\"gpt-4o-mini\"\n",
        ").choices[0].message.content\n",
        "\n",
        "safe_colored(response, 'orange')"
      ],
      "metadata": {
        "colab": {
          "base_uri": "https://localhost:8080/",
          "height": 34
        },
        "id": "5hVtO_pb1rwC",
        "outputId": "bdbf0f14-bf3a-4ce6-d064-fc64de7f559e"
      },
      "execution_count": 270,
      "outputs": [
        {
          "output_type": "display_data",
          "data": {
            "text/plain": [
              "<IPython.core.display.HTML object>"
            ],
            "text/html": [
              "<span style='color:orange'><thought>I need to first calculate the sum of 1234 and 5678.</thought>\n",
              "<tool_call>{\"name\": \"calculator\",\"arguments\": {\"a\": 1234, \"b\": 5678, \"operation\": \"add\"}} </tool_call></span>"
            ]
          },
          "metadata": {}
        }
      ]
    },
    {
      "cell_type": "code",
      "source": [
        "if 'tool_call' in response:\n",
        "    print(True)"
      ],
      "metadata": {
        "colab": {
          "base_uri": "https://localhost:8080/"
        },
        "id": "FSbzywDC7bSg",
        "outputId": "a6ca44d0-709b-4109-a820-72ccab9b7f65"
      },
      "execution_count": 271,
      "outputs": [
        {
          "output_type": "stream",
          "name": "stdout",
          "text": [
            "True\n"
          ]
        }
      ]
    },
    {
      "cell_type": "code",
      "source": [
        "import re\n",
        "from dataclasses import dataclass\n",
        "\n",
        "\n",
        "@dataclass\n",
        "class ToolContent:\n",
        "    \"\"\"class to represent the result of extracting tag content.\"\"\"\n",
        "    content: list[str]\n",
        "    found: bool\n",
        "\n",
        "def extract_llm_call(text: str, tag: str) -> ToolContent:\n",
        "    \"\"\"\n",
        "    Extracts all content enclosed by specified tags (e.g., <thought>, <response>, etc.).\n",
        "    \"\"\"\n",
        "    # Build the regex pattern dynamically to find multiple occurrences of the tag\n",
        "    tag_pattern = rf\"<{tag}>(.*?)</{tag}>\"\n",
        "\n",
        "    # Use findall to capture all content between the specified tag\n",
        "    matched_contents = re.findall(tag_pattern, text, re.DOTALL)\n",
        "\n",
        "    # Return the dataclass instance with the result\n",
        "    return ToolContent(\n",
        "        content=[content.strip() for content in matched_contents],\n",
        "        found=bool(matched_contents),\n",
        "    )"
      ],
      "metadata": {
        "id": "26zfPsmN3jL4"
      },
      "execution_count": 272,
      "outputs": []
    },
    {
      "cell_type": "code",
      "source": [
        "tool_call = extract_llm_call(response, 'tool_call')"
      ],
      "metadata": {
        "id": "4mmTJqlD1trc"
      },
      "execution_count": 273,
      "outputs": []
    },
    {
      "cell_type": "code",
      "source": [
        "safe_colored(tool_call, 'yellow')"
      ],
      "metadata": {
        "colab": {
          "base_uri": "https://localhost:8080/",
          "height": 34
        },
        "id": "r5xrCi3t4QDQ",
        "outputId": "4e9eae28-1ee7-4518-d647-227a1963ec7a"
      },
      "execution_count": 274,
      "outputs": [
        {
          "output_type": "display_data",
          "data": {
            "text/plain": [
              "<IPython.core.display.HTML object>"
            ],
            "text/html": [
              "<span style='color:yellow'>ToolContent(content=['{\"name\": \"calculator\",\"arguments\": {\"a\": 1234, \"b\": 5678, \"operation\": \"add\"}}'], found=True)</span>"
            ]
          },
          "metadata": {}
        }
      ]
    },
    {
      "cell_type": "code",
      "source": [
        "tool_call = json.loads(tool_call.content[0])\n",
        "safe_colored(tool_call, 'yellow')"
      ],
      "metadata": {
        "colab": {
          "base_uri": "https://localhost:8080/",
          "height": 34
        },
        "id": "dYO4VTfs4RPU",
        "outputId": "a539a64e-89a5-4194-cc7c-14b220c76d80"
      },
      "execution_count": 275,
      "outputs": [
        {
          "output_type": "display_data",
          "data": {
            "text/plain": [
              "<IPython.core.display.HTML object>"
            ],
            "text/html": [
              "<span style='color:yellow'>{'name': 'calculator', 'arguments': {'a': 1234, 'b': 5678, 'operation': 'add'}}</span>"
            ]
          },
          "metadata": {}
        }
      ]
    },
    {
      "cell_type": "code",
      "source": [
        "tool_result = calculator(**tool_call['arguments'])\n",
        "safe_colored(tool_result, 'skyblue')"
      ],
      "metadata": {
        "colab": {
          "base_uri": "https://localhost:8080/",
          "height": 34
        },
        "id": "TWZUsTZW42YQ",
        "outputId": "a2f69370-100f-4c62-b628-6a26e0c6e90e"
      },
      "execution_count": 276,
      "outputs": [
        {
          "output_type": "display_data",
          "data": {
            "text/plain": [
              "<IPython.core.display.HTML object>"
            ],
            "text/html": [
              "<span style='color:skyblue'>{'tool_answer': 6912}</span>"
            ]
          },
          "metadata": {}
        }
      ]
    },
    {
      "cell_type": "code",
      "source": [
        "\n",
        "user_query = \"I want to calculate the sum of 1234 and 5678 and multiply the result by 5. Then, devide it by 34\"\n",
        "\n",
        "chat_history = [\n",
        "    {\n",
        "        \"role\": \"system\",\n",
        "        \"content\": ReAct_SYSTEM_PROMPT\n",
        "    },\n",
        "    {\n",
        "        \"role\": \"user\",\n",
        "        \"content\": f\"<question>{user_query}</question>\"\n",
        "    }\n",
        "]"
      ],
      "metadata": {
        "id": "dftwgdzlDHax"
      },
      "execution_count": 288,
      "outputs": []
    },
    {
      "cell_type": "code",
      "source": [
        "while True:\n",
        "    response = OPENAI_CLIENT.chat.completions.create(\n",
        "                                messages=chat_history,\n",
        "                                model=\"gpt-4o-mini\"\n",
        "                                ).choices[0].message.content\n",
        "\n",
        "    safe_colored(response, 'orange')\n",
        "    print()\n",
        "    if 'tool_call' in response:\n",
        "        tool_call = extract_llm_call(response, tag=\"tool_call\")\n",
        "        tool_call = json.loads(tool_call.content[0])\n",
        "        result = calculator(**tool_call['arguments'])\n",
        "        safe_colored(result, 'skyblue')\n",
        "        chat_history.append(\n",
        "                            {\n",
        "                                \"role\": \"user\",\n",
        "                                \"content\": f\"<observation>{result}</observation>\"\n",
        "                            }\n",
        "                        )\n",
        "\n",
        "    if 'response' in response:\n",
        "        print()\n",
        "        safe_colored(response, 'green')\n",
        "        break"
      ],
      "metadata": {
        "colab": {
          "base_uri": "https://localhost:8080/",
          "height": 243
        },
        "id": "b5rLbDjm5HpL",
        "outputId": "9bb25e36-e4cd-4fb3-ef48-d62b985c48dc"
      },
      "execution_count": 289,
      "outputs": [
        {
          "output_type": "display_data",
          "data": {
            "text/plain": [
              "<IPython.core.display.HTML object>"
            ],
            "text/html": [
              "<span style='color:orange'><thought>I need to first calculate the sum of 1234 and 5678.</thought>\n",
              "<tool_call>{\"name\": \"calculator\",\"arguments\": {\"a\": 1234, \"b\": 5678, \"operation\": \"add\"}} </tool_call></span>"
            ]
          },
          "metadata": {}
        },
        {
          "output_type": "stream",
          "name": "stdout",
          "text": [
            "\n"
          ]
        },
        {
          "output_type": "display_data",
          "data": {
            "text/plain": [
              "<IPython.core.display.HTML object>"
            ],
            "text/html": [
              "<span style='color:skyblue'>{'tool_answer': 6912}</span>"
            ]
          },
          "metadata": {}
        },
        {
          "output_type": "display_data",
          "data": {
            "text/plain": [
              "<IPython.core.display.HTML object>"
            ],
            "text/html": [
              "<span style='color:orange'><thought>I've calculated the sum of 1234 and 5678, which is 6912. Now I need to multiply this result by 5.</thought>\n",
              "<tool_call>{\"name\": \"calculator\",\"arguments\": {\"a\": 6912, \"b\": 5, \"operation\": \"multiply\"}} </tool_call></span>"
            ]
          },
          "metadata": {}
        },
        {
          "output_type": "stream",
          "name": "stdout",
          "text": [
            "\n"
          ]
        },
        {
          "output_type": "display_data",
          "data": {
            "text/plain": [
              "<IPython.core.display.HTML object>"
            ],
            "text/html": [
              "<span style='color:skyblue'>{'tool_answer': 34560}</span>"
            ]
          },
          "metadata": {}
        },
        {
          "output_type": "display_data",
          "data": {
            "text/plain": [
              "<IPython.core.display.HTML object>"
            ],
            "text/html": [
              "<span style='color:orange'><thought> I need to divide the result of 34560 by 34 to get the final answer. </thought>\n",
              "<tool_call>{\"name\": \"calculator\",\"arguments\": {\"a\": 34560, \"b\": 34, \"operation\": \"divide\"}} </tool_call></span>"
            ]
          },
          "metadata": {}
        },
        {
          "output_type": "stream",
          "name": "stdout",
          "text": [
            "\n"
          ]
        },
        {
          "output_type": "display_data",
          "data": {
            "text/plain": [
              "<IPython.core.display.HTML object>"
            ],
            "text/html": [
              "<span style='color:skyblue'>{'tool_answer': 1016.4705882352941}</span>"
            ]
          },
          "metadata": {}
        },
        {
          "output_type": "display_data",
          "data": {
            "text/plain": [
              "<IPython.core.display.HTML object>"
            ],
            "text/html": [
              "<span style='color:orange'><response>The final answer to your query is approximately 1016.47</response></span>"
            ]
          },
          "metadata": {}
        },
        {
          "output_type": "stream",
          "name": "stdout",
          "text": [
            "\n",
            "\n"
          ]
        },
        {
          "output_type": "display_data",
          "data": {
            "text/plain": [
              "<IPython.core.display.HTML object>"
            ],
            "text/html": [
              "<span style='color:green'><response>The final answer to your query is approximately 1016.47</response></span>"
            ]
          },
          "metadata": {}
        }
      ]
    },
    {
      "cell_type": "code",
      "source": [
        "final_answer = extract_llm_call(response, tag=\"response\")\n",
        "print(final_answer.content[0])"
      ],
      "metadata": {
        "colab": {
          "base_uri": "https://localhost:8080/"
        },
        "id": "c1-J1l1I68al",
        "outputId": "66a56c63-7c67-4a32-bb12-5be5050e784d"
      },
      "execution_count": 290,
      "outputs": [
        {
          "output_type": "stream",
          "name": "stdout",
          "text": [
            "The final answer to your query is approximately 1016.47\n"
          ]
        }
      ]
    },
    {
      "cell_type": "code",
      "source": [],
      "metadata": {
        "id": "Vl-NsVqBJV4j"
      },
      "execution_count": null,
      "outputs": []
    }
  ]
}